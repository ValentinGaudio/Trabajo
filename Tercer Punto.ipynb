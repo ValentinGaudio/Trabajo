{
 "cells": [
  {
   "cell_type": "markdown",
   "metadata": {},
   "source": [
    "Cree un nuevo archivo con la extención \".py\" y defina al menos 2 funciones sencillas, para luego importarlas y utilizarlas desde este archivo"
   ]
  },
  {
   "cell_type": "code",
   "execution_count": 2,
   "metadata": {},
   "outputs": [
    {
     "name": "stdout",
     "output_type": "stream",
     "text": [
      "['Billy', 'Billy', 'Billy', 'Billy', 'Billy', 'Billy', 'Billy', 'Billy', 'Billy']\n"
     ]
    }
   ],
   "source": [
    "import modulo \n",
    "\n",
    "lista = [\"Odin\",\"Loki\",\"Thor\",\"Freya\",\"Mimmer\",\"Hugen\",\"Munen\",\"Balder\",\"Iduna\"]\n",
    "\n",
    "print(modulo.billies(lista))"
   ]
  },
  {
   "cell_type": "code",
   "execution_count": null,
   "metadata": {},
   "outputs": [],
   "source": []
  }
 ],
 "metadata": {
  "kernelspec": {
   "display_name": "Python 3",
   "language": "python",
   "name": "python3"
  },
  "language_info": {
   "codemirror_mode": {
    "name": "ipython",
    "version": 3
   },
   "file_extension": ".py",
   "mimetype": "text/x-python",
   "name": "python",
   "nbconvert_exporter": "python",
   "pygments_lexer": "ipython3",
   "version": "3.7.3"
  }
 },
 "nbformat": 4,
 "nbformat_minor": 2
}
