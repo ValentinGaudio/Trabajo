{
 "cells": [
  {
   "cell_type": "markdown",
   "metadata": {},
   "source": [
    "Defina una función que duplique el valor de un elemento determinado en una lista"
   ]
  },
  {
   "cell_type": "code",
   "execution_count": 1,
   "metadata": {},
   "outputs": [
    {
     "name": "stdout",
     "output_type": "stream",
     "text": [
      "[10, 17, 1, 30, 189, 1, 40, 32, 21, 71]\n"
     ]
    }
   ],
   "source": [
    "lista = [10,17,1,15,189,1,40,32,21,71]\n",
    "def duplicar_valor(objeto,indice):\n",
    "    objeto[indice] = objeto[indice] * 2\n",
    "    return objeto\n",
    "print(duplicar_valor(lista,indice = 3))"
   ]
  },
  {
   "cell_type": "markdown",
   "metadata": {},
   "source": [
    "Defina una función que modifique un elemento determinado de una lista o tupla, por un valor pasado por parametro"
   ]
  },
  {
   "cell_type": "code",
   "execution_count": 2,
   "metadata": {},
   "outputs": [
    {
     "name": "stdout",
     "output_type": "stream",
     "text": [
      "[10, 17, 1, 30, 189, 10, 40, 32, 21, 71]\n",
      "(11, 1000, 33, 4, 67)\n"
     ]
    }
   ],
   "source": [
    "tupla = (11,90,33,4,67)\n",
    "def modificar_elemento_preciso(objeto,valor,indice):\n",
    "    if type(objeto) == tuple:\n",
    "        objeto = list(objeto)\n",
    "        objeto[indice] = valor\n",
    "        objeto = tuple(objeto)\n",
    "        return objeto   \n",
    "    else:\n",
    "        objeto[indice] = valor\n",
    "        return objeto\n",
    "print(modificar_elemento_preciso(lista,valor = 10,indice = 5))\n",
    "print(modificar_elemento_preciso(tupla,valor = 1000,indice = 1))"
   ]
  },
  {
   "cell_type": "code",
   "execution_count": null,
   "metadata": {},
   "outputs": [],
   "source": []
  }
 ],
 "metadata": {
  "kernelspec": {
   "display_name": "Python 3",
   "language": "python",
   "name": "python3"
  },
  "language_info": {
   "codemirror_mode": {
    "name": "ipython",
    "version": 3
   },
   "file_extension": ".py",
   "mimetype": "text/x-python",
   "name": "python",
   "nbconvert_exporter": "python",
   "pygments_lexer": "ipython3",
   "version": "3.7.3"
  }
 },
 "nbformat": 4,
 "nbformat_minor": 2
}
