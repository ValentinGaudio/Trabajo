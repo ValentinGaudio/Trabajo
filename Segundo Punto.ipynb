{
 "cells": [
  {
   "cell_type": "markdown",
   "metadata": {},
   "source": [
    "Imprima los dos ultimos nombres de la siguiente lista, y los dos primeros de la siguiente tupla:"
   ]
  },
  {
   "cell_type": "code",
   "execution_count": 1,
   "metadata": {},
   "outputs": [
    {
     "name": "stdout",
     "output_type": "stream",
     "text": [
      "['Balder', 'Iduna'] ('Saturno', 'Neptuno')\n"
     ]
    }
   ],
   "source": [
    "tupla=(\"Saturno\",\"Neptuno\",\"Urano\",\"Venus\",\"Jupiter\")\n",
    "lista = [\"Odin\",\"Loki\",\"Thor\",\"Freya\",\"Mimmer\",\"Hugen\",\"Munen\",\"Balder\",\"Iduna\"]\n",
    "print(lista[-2:],tupla[0:2])"
   ]
  },
  {
   "cell_type": "markdown",
   "metadata": {},
   "source": [
    "Imprima al reverso la siguiente frase:"
   ]
  },
  {
   "cell_type": "code",
   "execution_count": 2,
   "metadata": {},
   "outputs": [
    {
     "name": "stdout",
     "output_type": "stream",
     "text": [
      "socidroN sesoiD y sonamoR sesoiD\n"
     ]
    }
   ],
   "source": [
    "frase = \"Dioses Romanos y Dioses Nordicos\"\n",
    "print(frase[::-1])"
   ]
  },
  {
   "cell_type": "markdown",
   "metadata": {},
   "source": [
    "Ahora imprima por separado \"Dioses Romanos\" y \"Dioses Nordicos\""
   ]
  },
  {
   "cell_type": "code",
   "execution_count": 3,
   "metadata": {},
   "outputs": [
    {
     "name": "stdout",
     "output_type": "stream",
     "text": [
      "Dioses Romanos  Dioses Nordicos\n"
     ]
    }
   ],
   "source": [
    "print(frase[0:14],frase[16:])"
   ]
  },
  {
   "cell_type": "markdown",
   "metadata": {},
   "source": [
    "Agregue un nuevo elemento al siguiente diccionario"
   ]
  },
  {
   "cell_type": "code",
   "execution_count": 4,
   "metadata": {},
   "outputs": [
    {
     "name": "stdout",
     "output_type": "stream",
     "text": [
      "{'Autos': 10, 'Aviones': 4, 'Barcos': 7}\n"
     ]
    }
   ],
   "source": [
    "dic = { 'Autos': 10, 'Aviones': 4}\n",
    "dic['Barcos'] = 7\n",
    "print(dic)"
   ]
  },
  {
   "cell_type": "markdown",
   "metadata": {},
   "source": [
    "Cambie todos los nombres, menos el primero y el ultimo, de la lista, por \"Billy\""
   ]
  },
  {
   "cell_type": "code",
   "execution_count": 5,
   "metadata": {},
   "outputs": [
    {
     "name": "stdout",
     "output_type": "stream",
     "text": [
      "['Odin', 'Billy', 'Billy', 'Billy', 'Billy', 'Billy', 'Billy', 'Billy', 'Iduna']\n"
     ]
    }
   ],
   "source": [
    "for i in range(1,(len(lista)-1)):\n",
    "        lista[i] = 'Billy'\n",
    "print(lista)"
   ]
  },
  {
   "cell_type": "markdown",
   "metadata": {},
   "source": [
    "Cree una lista vacia y agreguele 10 numeros pares, partiendo del 0"
   ]
  },
  {
   "cell_type": "code",
   "execution_count": 6,
   "metadata": {},
   "outputs": [
    {
     "name": "stdout",
     "output_type": "stream",
     "text": [
      "[0, 2, 4, 6, 8, 10, 12, 14, 16, 18]\n"
     ]
    }
   ],
   "source": [
    "lista2= []\n",
    "for i in range(0,10):\n",
    "    lista2.append(i * 2)\n",
    "print(lista2)"
   ]
  },
  {
   "cell_type": "markdown",
   "metadata": {},
   "source": [
    "Sume 1 a todos los elementos de la lista anterior"
   ]
  },
  {
   "cell_type": "code",
   "execution_count": 7,
   "metadata": {},
   "outputs": [
    {
     "name": "stdout",
     "output_type": "stream",
     "text": [
      "[1, 3, 5, 7, 9, 11, 13, 15, 17, 19]\n"
     ]
    }
   ],
   "source": [
    "for i in range(0,len(lista2)):\n",
    "    lista2[i] = lista2[i] + 1\n",
    "print(lista2)"
   ]
  }
 ],
 "metadata": {
  "kernelspec": {
   "display_name": "Python 3",
   "language": "python",
   "name": "python3"
  },
  "language_info": {
   "codemirror_mode": {
    "name": "ipython",
    "version": 3
   },
   "file_extension": ".py",
   "mimetype": "text/x-python",
   "name": "python",
   "nbconvert_exporter": "python",
   "pygments_lexer": "ipython3",
   "version": "3.7.3"
  }
 },
 "nbformat": 4,
 "nbformat_minor": 2
}
